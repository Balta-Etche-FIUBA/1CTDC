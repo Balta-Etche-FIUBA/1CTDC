{
  "nbformat": 4,
  "nbformat_minor": 0,
  "metadata": {
    "colab": {
      "provenance": [],
      "include_colab_link": true
    },
    "kernelspec": {
      "name": "python3",
      "display_name": "Python 3"
    },
    "language_info": {
      "name": "python"
    }
  },
  "cells": [
    {
      "cell_type": "markdown",
      "metadata": {
        "id": "view-in-github",
        "colab_type": "text"
      },
      "source": [
        "<a href=\"https://colab.research.google.com/github/Balta-Etche-FIUBA/1CTDC/blob/main/TP_Estoca.ipynb\" target=\"_parent\"><img src=\"https://colab.research.google.com/assets/colab-badge.svg\" alt=\"Open In Colab\"/></a>"
      ]
    },
    {
      "cell_type": "code",
      "execution_count": null,
      "metadata": {
        "id": "aBSeHk2ROqNY"
      },
      "outputs": [],
      "source": [
        "import numpy as np\n",
        "import matplotlib.pyplot as plt\n",
        "\n",
        "\n"
      ]
    },
    {
      "cell_type": "markdown",
      "source": [
        "Existe una función crear mazo que recibe una carta. Crea el mazo SIN la carta que recibe. Devuelve el mazo. El mazo es un array de strings con las cartas que hay. Ej: Mazo = ['2','2','2','2','3','3','3','3', ..., 'A','A','A','A']\n",
        "\n",
        "La función ronda_banca(carta) simula un ronda. Se inicia la ronda con la carta dada.\n",
        "\n",
        "ronda_banca() llama a crear mazo, crea el mazo SIN la carta inicial, lo mezcla y va simulando la mano de la banca.\n",
        "Hay una función valor_carta(carta) que recibe el string y devuelve su valor numérico\n",
        "dentro de ronda banca hay una variable puntos. Inicialmente puntos = valor_carta(carta)\n",
        "\n",
        "Empieza la iteración: while(1)\n",
        "\n",
        "Ases #esta variable guarda la cantidad de ases sacados por la banca que valen 11\n",
        "\n",
        "carta_sacada = mazo.pop()\n",
        "\n",
        "if(carta_sacada == 'A'):\n",
        "  \n",
        "  Ases++\n",
        "\n",
        "puntos_a_sumar = carta_valor(carta_sacada)\n",
        "\n",
        "puntos += puntos_a_sumar\n",
        "\n",
        "if(puntos > 21 && Ases > 0):\n",
        "  \n",
        "  Ases--\n",
        "  \n",
        "  puntos  -= 10\n",
        "\n",
        "if(puntos > 21):\n",
        "  \n",
        "  return alpiste perdiste :(\n",
        "\n",
        "if(puntos > 17):\n",
        "\n",
        "  Terminar\n",
        "\n",
        "else: seguir\n",
        "\n",
        "\n"
      ],
      "metadata": {
        "id": "o6ENrWCha6wr"
      }
    },
    {
      "cell_type": "markdown",
      "source": [
        "Ejemplo de shuffle()"
      ],
      "metadata": {
        "id": "kHyWgL8WRHYS"
      }
    },
    {
      "cell_type": "code",
      "source": [
        "import numpy as np\n",
        "import random\n",
        "arr = np.array([1, 2, 3, 4, 5])\n",
        "np.random.shuffle(arr)\n",
        "print(arr)  # El contenido está barajado"
      ],
      "metadata": {
        "colab": {
          "base_uri": "https://localhost:8080/"
        },
        "id": "i2x9kOceRAgp",
        "outputId": "794578f6-c767-4c3a-bb8f-9d7990663d16"
      },
      "execution_count": null,
      "outputs": [
        {
          "output_type": "stream",
          "name": "stdout",
          "text": [
            "[5 3 2 4 1]\n"
          ]
        }
      ]
    },
    {
      "cell_type": "code",
      "source": [
        "# Convertir carta a valor numérico\n",
        "def valor_carta(carta):\n",
        "    if carta in ['J', 'Q', 'K']:\n",
        "        return 10\n",
        "    elif carta == 'A':\n",
        "        return 11  # inicialmente tratamos el As como 11\n",
        "    else:\n",
        "        return int(carta)"
      ],
      "metadata": {
        "id": "l92uMWjAS4km"
      },
      "execution_count": null,
      "outputs": []
    },
    {
      "cell_type": "code",
      "source": [
        "# Crear el array mazo y sufflearlo\n",
        "def crear_mazo(carta):\n",
        "    numeros = np.arange(2, 11).astype(str)  # ['2', ..., '10']\n",
        "    figuras = np.array(['J', 'Q', 'K', 'A'])\n",
        "    valores = np.concatenate((numeros, figuras))\n",
        "    mazo = list(valores) * 4  # 4 palos por carta\n",
        "    mazo.remove(carta)\n",
        "    random.shuffle(mazo) # Mezclo el mazo\n",
        "    return mazo # Devuelvo el mazo sin la primer carta fijada y mezclado"
      ],
      "metadata": {
        "id": "4BlQQcZ-WmfE"
      },
      "execution_count": null,
      "outputs": []
    },
    {
      "cell_type": "code",
      "source": [
        "def ronda_banca(carta):\n",
        "\n",
        "    puntos = valor_carta(carta)\n",
        "    mazo = crear_mazo(carta)\n",
        "    ases_once = 0\n",
        "\n",
        "    while(1):\n",
        "\n",
        "        carta_sacada = mazo.pop()\n",
        "        if(carta_sacada == 'A'):\n",
        "            ases_once+=1\n",
        "\n",
        "        puntos_a_sumar = valor_carta(carta_sacada)\n",
        "        puntos += puntos_a_sumar\n",
        "\n",
        "        if(puntos > 21 and ases_once > 0):\n",
        "            ases_once-=1\n",
        "            puntos -= 10\n",
        "\n",
        "        if(puntos > 21):\n",
        "            return True\n",
        "\n",
        "        if(puntos > 17):\n",
        "            return False\n"
      ],
      "metadata": {
        "id": "BXyHD9ifWnoY"
      },
      "execution_count": null,
      "outputs": []
    },
    {
      "cell_type": "code",
      "source": [
        "prueba=ronda_banca('6')\n",
        "print(prueba)"
      ],
      "metadata": {
        "colab": {
          "base_uri": "https://localhost:8080/"
        },
        "id": "WQCY8DbXh-4O",
        "outputId": "f2385130-a85f-4267-9805-985847e8b74c"
      },
      "execution_count": null,
      "outputs": [
        {
          "output_type": "stream",
          "name": "stdout",
          "text": [
            "False\n"
          ]
        }
      ]
    },
    {
      "cell_type": "markdown",
      "source": [
        "Ejercicio 2:\n",
        "definimos montecarlo_banca(M, carta):\n",
        "\n",
        "pasados es una variable que cuenta cuantas veces se paso la banca, se inicializa en 0\n",
        "\n",
        "for i in range(M):\n",
        "\n",
        "  if(ronda_banca(carta)):\n",
        "\n",
        "    pasados++\n",
        "    \n",
        "return pasados/M\n"
      ],
      "metadata": {
        "id": "0PHxACkbkS0j"
      }
    },
    {
      "cell_type": "code",
      "source": [
        "def montecarlo_banca(M, carta):\n",
        "  pasados = 0\n",
        "  for i in range(M):\n",
        "    if(ronda_banca(carta)):\n",
        "      pasados += 1\n",
        "  return pasados/M"
      ],
      "metadata": {
        "id": "0x0LpcAJk9QP"
      },
      "execution_count": null,
      "outputs": []
    },
    {
      "cell_type": "code",
      "source": [
        "prueba2 = montecarlo_banca(10, '6')\n",
        "print(prueba2)"
      ],
      "metadata": {
        "colab": {
          "base_uri": "https://localhost:8080/"
        },
        "id": "50YcvU-WlRjV",
        "outputId": "38e7e8e1-9964-455f-ccaa-ff2e1ef2eaf6"
      },
      "execution_count": 44,
      "outputs": [
        {
          "output_type": "stream",
          "name": "stdout",
          "text": [
            "0.5\n"
          ]
        }
      ]
    },
    {
      "cell_type": "code",
      "source": [
        "realizaciones = [1,10,100,1000,10000,100000,1000000]\n",
        "carta = '6'\n",
        "P_E = []\n",
        "for i in range(len(realizaciones)):\n",
        "  P_E.append(montecarlo_banca(realizaciones[i], carta))\n",
        "print(P_E)"
      ],
      "metadata": {
        "colab": {
          "base_uri": "https://localhost:8080/"
        },
        "id": "3pa6WWedmzWp",
        "outputId": "51a6803a-2869-4025-976d-7a9234130d0a"
      },
      "execution_count": 47,
      "outputs": [
        {
          "output_type": "stream",
          "name": "stdout",
          "text": [
            "[1.0, 0.3, 0.54, 0.519, 0.5155, 0.51721, 0.518747]\n"
          ]
        }
      ]
    },
    {
      "cell_type": "code",
      "source": [
        "plt.stem(realizaciones, P_E)\n",
        "plt.semilogx()\n",
        "plt.xlabel('Realizaciones')\n",
        "plt.ylabel('Probabilidad de que la banca se exceda')\n",
        "plt.grid(True)\n",
        "plt.show()"
      ],
      "metadata": {
        "colab": {
          "base_uri": "https://localhost:8080/",
          "height": 211
        },
        "id": "M-sX4PSznfP4",
        "outputId": "2019503f-60a5-460f-ad0d-8dd0b5c1dece"
      },
      "execution_count": 46,
      "outputs": [
        {
          "output_type": "error",
          "ename": "NameError",
          "evalue": "name 'plt' is not defined",
          "traceback": [
            "\u001b[0;31m---------------------------------------------------------------------------\u001b[0m",
            "\u001b[0;31mNameError\u001b[0m                                 Traceback (most recent call last)",
            "\u001b[0;32m<ipython-input-46-1a80dd470149>\u001b[0m in \u001b[0;36m<cell line: 0>\u001b[0;34m()\u001b[0m\n\u001b[0;32m----> 1\u001b[0;31m \u001b[0mplt\u001b[0m\u001b[0;34m.\u001b[0m\u001b[0mstem\u001b[0m\u001b[0;34m(\u001b[0m\u001b[0mrealizaciones\u001b[0m\u001b[0;34m,\u001b[0m \u001b[0mP_E\u001b[0m\u001b[0;34m)\u001b[0m\u001b[0;34m\u001b[0m\u001b[0;34m\u001b[0m\u001b[0m\n\u001b[0m\u001b[1;32m      2\u001b[0m \u001b[0mplt\u001b[0m\u001b[0;34m.\u001b[0m\u001b[0msemilogx\u001b[0m\u001b[0;34m(\u001b[0m\u001b[0;34m)\u001b[0m\u001b[0;34m\u001b[0m\u001b[0;34m\u001b[0m\u001b[0m\n\u001b[1;32m      3\u001b[0m \u001b[0mplt\u001b[0m\u001b[0;34m.\u001b[0m\u001b[0mxlabel\u001b[0m\u001b[0;34m(\u001b[0m\u001b[0;34m'Realizaciones'\u001b[0m\u001b[0;34m)\u001b[0m\u001b[0;34m\u001b[0m\u001b[0;34m\u001b[0m\u001b[0m\n\u001b[1;32m      4\u001b[0m \u001b[0mplt\u001b[0m\u001b[0;34m.\u001b[0m\u001b[0mylabel\u001b[0m\u001b[0;34m(\u001b[0m\u001b[0;34m'Probabilidad de que la banca se exceda'\u001b[0m\u001b[0;34m)\u001b[0m\u001b[0;34m\u001b[0m\u001b[0;34m\u001b[0m\u001b[0m\n\u001b[1;32m      5\u001b[0m \u001b[0mplt\u001b[0m\u001b[0;34m.\u001b[0m\u001b[0mgrid\u001b[0m\u001b[0;34m(\u001b[0m\u001b[0;32mTrue\u001b[0m\u001b[0;34m)\u001b[0m\u001b[0;34m\u001b[0m\u001b[0;34m\u001b[0m\u001b[0m\n",
            "\u001b[0;31mNameError\u001b[0m: name 'plt' is not defined"
          ]
        }
      ]
    },
    {
      "cell_type": "markdown",
      "source": [
        "Ejercicio 3:\n"
      ],
      "metadata": {
        "id": "AB3C9L6GoYBn"
      }
    },
    {
      "cell_type": "code",
      "source": [
        "M = 100000\n",
        "\n",
        "cartas = ['2', '3', '4', '5', '6', '7', '8', '9', '10', 'J', 'Q', 'K', 'A']\n",
        "P_E = []\n",
        "for carta in cartas:\n",
        "  P_E.append(montecarlo_banca(M, carta))\n",
        "print(P_E)"
      ],
      "metadata": {
        "id": "D32yavvSn9eY"
      },
      "execution_count": null,
      "outputs": []
    },
    {
      "cell_type": "code",
      "source": [],
      "metadata": {
        "id": "Orgqg2A-oyAd"
      },
      "execution_count": null,
      "outputs": []
    }
  ]
}