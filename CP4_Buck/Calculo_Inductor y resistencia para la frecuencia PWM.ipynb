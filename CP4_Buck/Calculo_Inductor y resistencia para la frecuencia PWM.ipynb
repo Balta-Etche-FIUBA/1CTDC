{
  "nbformat": 4,
  "nbformat_minor": 0,
  "metadata": {
    "colab": {
      "provenance": []
    },
    "kernelspec": {
      "name": "python3",
      "display_name": "Python 3"
    },
    "language_info": {
      "name": "python"
    }
  },
  "cells": [
    {
      "cell_type": "code",
      "execution_count": null,
      "metadata": {
        "id": "nL0g6khoYQZi"
      },
      "outputs": [],
      "source": [
        "# Script simple para calcular L\n",
        "\n",
        "# Datos de entrada\n",
        "f_1 = 120e3\n",
        "D_1 = 9.5/12\n",
        "D_2 = 9.5/30           # Ciclo de trabajo (ejemplo: 40%)\n",
        "Vs = 9.5           # Voltaje de entrada en voltios\n",
        "il_max = 0.2         # Corriente máxima en amperios\n",
        "il_min = 0\n",
        "i_s = (il_min+il_max)/2            # Corriente mínima en amperios\n",
        "is_min = 0.1\n",
        "\n",
        "Ve = 30\n",
        "Vds2 = -6e-3\n",
        "Vds1 = 6e-3"
      ]
    },
    {
      "cell_type": "code",
      "source": [],
      "metadata": {
        "id": "0XfBJTzjDLmH"
      },
      "execution_count": null,
      "outputs": []
    },
    {
      "cell_type": "code",
      "source": [
        "# Cálculo de L\n",
        "#L_1 = (1 / (2 * f_1)) * ((1 - D_1) * Vs) / (il_max - i_s)\n",
        "\n",
        "L_1 = (1/(2*f_1)) * (((1-D_1)*Vs)/(il_max-il_min));\n",
        "\n",
        "L_3 = (1 / (2 * f_1)) * ((1 - D_2) * Vs) / (il_max - il_min)\n",
        "\n",
        "# Mostrar resultado\n",
        "print(\"La inductancia L1 es:\", L_1, \"Henrios\")\n",
        "print(\"Duty 1:\",D_1)\n",
        "print(\"Ton:\",(D_1 * (1/f_1)))\n",
        "print(\"Ttot1:\",1/f_1)\n",
        "\n",
        "\n",
        "\n",
        "print(\"La inductancia L2 es:\", L_3, \"Henrios\")\n",
        "print(\"Duty 1:\",D_2)\n",
        "print(\"Ton:\",(D_2 * (1/f_1)))\n",
        "print(\"Ttot1:\",1/f_1)"
      ],
      "metadata": {
        "colab": {
          "base_uri": "https://localhost:8080/"
        },
        "id": "R2trdHkBYSl0",
        "outputId": "b47a9aee-5048-4428-c776-5db05bffd5fb"
      },
      "execution_count": null,
      "outputs": [
        {
          "output_type": "stream",
          "name": "stdout",
          "text": [
            "La inductancia L1 es: 5.890376984126985e-06 Henrios\n",
            "Duty 1: 0.7916666666666666\n",
            "Ton: 6.597222222222222e-06\n",
            "Ttot1: 8.333333333333334e-06\n",
            "La inductancia L2 es: 1.932043650793651e-05 Henrios\n",
            "Duty 1: 0.31666666666666665\n",
            "Ton: 2.638888888888889e-06\n",
            "Ttot1: 8.333333333333334e-06\n"
          ]
        }
      ]
    },
    {
      "cell_type": "code",
      "source": [
        "#MOSFET\n",
        "D_mos = (Vs + Vds2)/(Ve-Vds1+Vds2)\n",
        "\n",
        "#Estado Critico\n",
        "R_max = Vs/is_min;\n",
        "L_cr = ((1-D_mos)*R_max)/(2*f_1);\n",
        "\n",
        "L = 300e-6\n",
        "R_c = (2*f_1*L)/(1-D_mos)\n",
        "\n",
        "ton_1 = D_mos/f_1\n",
        "ton_2 = 1/f_1-ton_1\n",
        "\n",
        "print(\"La inductancia critica Lc es:\", L_cr, \"Henrios\")\n",
        "print(\"R_max\", R_max, \"ohm\")\n",
        "print(\"R_c\", R_c, \"ohm\")\n",
        "print(\"Duty 1:\",D_mos)\n",
        "print(\"Ton1:\",ton_1)\n",
        "print(\"Ton2:\",ton_2)\n",
        "print(\"Ton2:\",1/f_1)"
      ],
      "metadata": {
        "colab": {
          "base_uri": "https://localhost:8080/"
        },
        "id": "tjD-8jsZO2QS",
        "outputId": "6e2dfae7-c55a-4d39-8b70-571a9ad27c03"
      },
      "execution_count": null,
      "outputs": [
        {
          "output_type": "stream",
          "name": "stdout",
          "text": [
            "La inductancia critica Lc es: 0.00027051515050464627 Henrios\n",
            "R_max 95.0 ohm\n",
            "R_c 105.3545427930126 ohm\n",
            "Duty 1: 0.31659330398826196\n",
            "Ton1: 2.638277533235516e-06\n",
            "Ton2: 5.6950558000978176e-06\n",
            "Ton2: 8.333333333333334e-06\n"
          ]
        }
      ]
    },
    {
      "cell_type": "code",
      "source": [
        "#Calculo resistencia que altera la frecuencia de oscilacion\n",
        "R3= 100e3\n",
        "R4 = 25e3\n",
        "# R5 = 5e3\n",
        "C = 100e-12\n",
        "f = 80e3 # cambiar frecuencia\n",
        "rel = R3/R4\n",
        "# f = rel/(4*R5*C)\n",
        "R5 = rel/(4*f*C)\n",
        "R5\n"
      ],
      "metadata": {
        "colab": {
          "base_uri": "https://localhost:8080/"
        },
        "id": "WbuYOeEPDlgD",
        "outputId": "9d764968-1629-4010-b35c-55fce2e13cfd"
      },
      "execution_count": 4,
      "outputs": [
        {
          "output_type": "execute_result",
          "data": {
            "text/plain": [
              "125000.0"
            ]
          },
          "metadata": {},
          "execution_count": 4
        }
      ]
    },
    {
      "cell_type": "code",
      "source": [],
      "metadata": {
        "id": "DXKeif8jR6fX"
      },
      "execution_count": null,
      "outputs": []
    }
  ]
}